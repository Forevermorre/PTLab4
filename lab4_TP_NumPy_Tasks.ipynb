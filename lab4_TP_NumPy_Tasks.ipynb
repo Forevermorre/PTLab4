{
  "nbformat": 4,
  "nbformat_minor": 0,
  "metadata": {
    "colab": {
      "provenance": []
    },
    "kernelspec": {
      "name": "python3",
      "display_name": "Python 3"
    },
    "language_info": {
      "name": "python"
    }
  },
  "cells": [
    {
      "cell_type": "markdown",
      "source": [
        "## Задание по библиотеке NumPy"
      ],
      "metadata": {
        "id": "BkLL29eTT5WA"
      }
    },
    {
      "cell_type": "code",
      "execution_count": 63,
      "metadata": {
        "colab": {
          "base_uri": "https://localhost:8080/"
        },
        "id": "xRDf0g9kagHf",
        "outputId": "a931f7ca-642d-4429-b348-549b3b249ba1"
      },
      "outputs": [
        {
          "output_type": "stream",
          "name": "stdout",
          "text": [
            "1.26.4\n"
          ]
        }
      ],
      "source": [
        "import numpy as np\n",
        "\n",
        "print(np.__version__)"
      ]
    },
    {
      "cell_type": "markdown",
      "source": [
        "Заполнение матрицы M:"
      ],
      "metadata": {
        "id": "1LtimCq-NX1_"
      }
    },
    {
      "cell_type": "code",
      "source": [
        "size = 85\n",
        "\n",
        "M = 2 * np.ones((size, size), dtype=int)\n",
        "np.fill_diagonal(M, 2 * np.arange(size) + 3)\n",
        "print('M =\\n', M)"
      ],
      "metadata": {
        "id": "IbMrgm22a-Mk",
        "colab": {
          "base_uri": "https://localhost:8080/"
        },
        "outputId": "340b6c4b-b39a-4882-f1ad-165a45bbde86"
      },
      "execution_count": 64,
      "outputs": [
        {
          "output_type": "stream",
          "name": "stdout",
          "text": [
            "M =\n",
            " [[  3   2   2 ...   2   2   2]\n",
            " [  2   5   2 ...   2   2   2]\n",
            " [  2   2   7 ...   2   2   2]\n",
            " ...\n",
            " [  2   2   2 ... 167   2   2]\n",
            " [  2   2   2 ...   2 169   2]\n",
            " [  2   2   2 ...   2   2 171]]\n"
          ]
        }
      ]
    },
    {
      "cell_type": "markdown",
      "source": [
        "Заполнение матрицы N:"
      ],
      "metadata": {
        "id": "ii24y0-QNe6z"
      }
    },
    {
      "cell_type": "code",
      "source": [
        "N = np.zeros((size, size), dtype=int)\n",
        "\n",
        "# Четные строки\n",
        "N[::2, :] = 4\n",
        "N[::2, 2::3] = 5\n",
        "\n",
        "# Нечетные строки\n",
        "N[1::2, :] = 4\n",
        "N[1::2, 1::2] = 7\n",
        "\n",
        "print('N =\\n', N)"
      ],
      "metadata": {
        "colab": {
          "base_uri": "https://localhost:8080/"
        },
        "id": "ZfTiHjKIFkBt",
        "outputId": "de560477-48e8-4ccf-edce-a4c05285ea82"
      },
      "execution_count": 65,
      "outputs": [
        {
          "output_type": "stream",
          "name": "stdout",
          "text": [
            "N =\n",
            " [[4 4 5 ... 4 5 4]\n",
            " [4 7 4 ... 4 7 4]\n",
            " [4 4 5 ... 4 5 4]\n",
            " ...\n",
            " [4 4 5 ... 4 5 4]\n",
            " [4 7 4 ... 4 7 4]\n",
            " [4 4 5 ... 4 5 4]]\n"
          ]
        }
      ]
    },
    {
      "cell_type": "markdown",
      "source": [
        "Вычисление вектора p:"
      ],
      "metadata": {
        "id": "qO_n7_4rOF1E"
      }
    },
    {
      "cell_type": "code",
      "source": [
        "p = 1 + np.random.normal(loc=2, scale=2, size=size) # (среднее значение, стандартное отклонение, размер матрицы)\n",
        "print('p =', p)"
      ],
      "metadata": {
        "colab": {
          "base_uri": "https://localhost:8080/"
        },
        "id": "3yfmE-Q0Fzjo",
        "outputId": "aa5ca060-2d17-4a2c-fca0-73d7adc1da0f"
      },
      "execution_count": 66,
      "outputs": [
        {
          "output_type": "stream",
          "name": "stdout",
          "text": [
            "p = [ 1.11930585e+00  4.05362453e+00  3.27507139e+00  4.29924127e+00\n",
            "  1.52974139e+00  4.59527446e+00  5.86250891e+00  2.48013258e+00\n",
            "  4.94398562e+00  4.92481728e-01  4.23105890e+00  6.34616751e+00\n",
            "  3.64744452e+00  3.68776473e+00  6.63619965e+00  1.32268304e+00\n",
            "  7.48487709e+00  3.48327587e+00  2.12203350e+00  8.30590115e-01\n",
            "  2.42026380e+00  1.47576751e+00  4.49406436e+00  7.11053275e-01\n",
            "  1.22229920e+00  4.19360289e+00  4.96671901e+00  3.34964637e+00\n",
            "  3.07410748e+00  1.23294045e+00  2.98226947e+00  3.20055422e+00\n",
            "  2.64064099e+00  1.66560855e+00  4.64371033e+00  3.42949764e+00\n",
            "  1.95891009e+00  4.02623933e+00  2.75965604e+00  7.62601457e+00\n",
            "  5.84360843e+00  2.36938893e+00  3.22037822e+00  4.44974511e+00\n",
            "  1.18373307e+00  4.64164381e+00  3.25588133e+00  1.13311211e+00\n",
            "  1.25164207e+00  3.48725579e+00  3.39307063e+00  3.58040509e+00\n",
            "  4.89614765e+00 -2.20269389e+00  6.89094676e+00  5.52606998e-03\n",
            "  3.04820846e+00  5.23438742e+00  4.95337302e+00  1.81228490e+00\n",
            "  2.49364480e+00  2.54075182e+00  2.88007924e+00 -6.84402749e-01\n",
            "  3.81976308e+00  5.14865603e-01  5.10721490e+00  1.98012291e+00\n",
            "  1.97658220e-01  1.52863415e+00  1.14401488e+00  6.01428128e+00\n",
            "  9.57796238e-01  2.24218034e+00  2.12494378e+00 -1.05911619e+00\n",
            "  3.40871622e+00 -1.66531786e-01  5.68864112e+00  1.42822460e+00\n",
            "  2.10217723e+00  2.48842395e+00  3.52365576e+00  5.71728406e+00\n",
            "  4.74937159e-01]\n"
          ]
        }
      ]
    },
    {
      "cell_type": "markdown",
      "source": [
        "Вычисление вектора q:"
      ],
      "metadata": {
        "id": "6D_JQXrcOKTD"
      }
    },
    {
      "cell_type": "code",
      "source": [
        "qT = np.multiply(N[24, :size], N[71, :size])\n",
        "q = qT.T\n",
        "print('q =', q)"
      ],
      "metadata": {
        "colab": {
          "base_uri": "https://localhost:8080/"
        },
        "id": "xyTX1Da4F67M",
        "outputId": "021b2f39-4909-49ff-8c51-7e42487c0401"
      },
      "execution_count": 67,
      "outputs": [
        {
          "output_type": "stream",
          "name": "stdout",
          "text": [
            "q = [16 28 20 28 16 35 16 28 20 28 16 35 16 28 20 28 16 35 16 28 20 28 16 35\n",
            " 16 28 20 28 16 35 16 28 20 28 16 35 16 28 20 28 16 35 16 28 20 28 16 35\n",
            " 16 28 20 28 16 35 16 28 20 28 16 35 16 28 20 28 16 35 16 28 20 28 16 35\n",
            " 16 28 20 28 16 35 16 28 20 28 16 35 16]\n"
          ]
        }
      ]
    },
    {
      "cell_type": "markdown",
      "source": [
        "Вычисление вектора f:"
      ],
      "metadata": {
        "id": "FSR5khmJOcEV"
      }
    },
    {
      "cell_type": "code",
      "source": [
        "qqT = np.outer(q, qT)\n",
        "det_qqT = np.linalg.det(qqT)\n",
        "f = det_qqT * p\n",
        "f = det_qqT\n",
        "print('f =', f)"
      ],
      "metadata": {
        "colab": {
          "base_uri": "https://localhost:8080/"
        },
        "id": "lWseB18fca3K",
        "outputId": "8c948c2b-52c2-460f-a284-360f84192d5f"
      },
      "execution_count": 68,
      "outputs": [
        {
          "output_type": "stream",
          "name": "stdout",
          "text": [
            "f = 0.0\n"
          ]
        }
      ]
    },
    {
      "cell_type": "markdown",
      "source": [
        "Вычисление вектора g:"
      ],
      "metadata": {
        "id": "UdV3l_LROjmz"
      }
    },
    {
      "cell_type": "code",
      "source": [
        "Mii = np.diag(M)\n",
        "Nii = np.diag(N)\n",
        "qTq = np.multiply(qT, q)\n",
        "difference = Mii - Nii\n",
        "result = difference + qTq\n",
        "g = np.linalg.norm(result, ord=2)\n",
        "print('g =', g)"
      ],
      "metadata": {
        "colab": {
          "base_uri": "https://localhost:8080/"
        },
        "id": "1N87cFKSL93d",
        "outputId": "1a34d2e2-dadd-49fb-c2f4-257daaaf94d9"
      },
      "execution_count": 69,
      "outputs": [
        {
          "output_type": "stream",
          "name": "stdout",
          "text": [
            "g = 7181.611727182138\n"
          ]
        }
      ]
    }
  ]
}